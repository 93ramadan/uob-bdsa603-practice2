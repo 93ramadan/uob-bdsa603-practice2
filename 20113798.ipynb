{
 "cells": [
  {
   "cell_type": "markdown",
   "metadata": {},
   "source": [
    "# BDSA 603 - Big Data Analytics\n",
    "# Practice 2 - Analytics on UK Smart Meter Data\n",
    "\n",
    "* ### Supervised By: Dr. Hesham Al-Ammal\n",
    "* ### Coded By: Ahmed Khedr\n",
    "* ### UOB ID: 20113798"
   ]
  },
  {
   "cell_type": "markdown",
   "metadata": {},
   "source": [
    "## Introduction\n",
    "Energy plays an important role in every aspect of today’s world. \n",
    "With the ever-increasing demand for energy, comes the importance of understanding how it is being consumed to allow governments to reduce carbon emissions, efficiently use and conserve energy, and plan for reliable energy sources.\n",
    "***\n",
    "## Research Problem\n",
    "This research & implemented analysis aims to:\n",
    "1. Explore relationship between weather condition and energy consumption\n",
    "2. Explore relationship between UK holidays and energy consumption\n",
    "3. Explore (& visualize) the relationship between ACORN household categorization and energy consumption over a year\n",
    "***\n",
    "## Research Scope\n",
    "* The United Kingdom\n",
    "* Energy readings from November 2011 until February 2014 (subject to data cleansing)\n",
    "* Weather conditions that will be considered in this research will be **temperature only**\n",
    "***\n",
    "## Data Sources\n",
    "* UK Power Networks (https://data.london.gov.uk/dataset/smartmeter-energy-use-data-in-london-households)\n",
    "* Smart Meters in London (https://www.kaggle.com/jeanmidev/smart-meters-in-london)\n",
    "***\n",
    "***"
   ]
  },
  {
   "cell_type": "markdown",
   "metadata": {},
   "source": [
    "# Data Collection & Preparation\n",
    "In this section, we will:\n",
    "* Clean up the datasets\n",
    "* Combine and prepare the dataset\n",
    "* Investigate inconsistency and missing values"
   ]
  },
  {
   "cell_type": "code",
   "execution_count": 1,
   "metadata": {},
   "outputs": [],
   "source": [
    "import os # Operating System\n",
    "import numpy as np # NumPy\n",
    "import pandas as pd # Pandas\n",
    "import seaborn as sns # SeaBorn\n",
    "import matplotlib.pyplot as plt # Mat-Plot Lib\n",
    "\n",
    "import dask # Dask\n",
    "import dask.dataframe as dd # Dask Data Frames\n",
    "from dask.distributed import Client # Dask Distributed\n",
    "from dask import delayed # Dask Delayed"
   ]
  },
  {
   "cell_type": "code",
   "execution_count": null,
   "metadata": {},
   "outputs": [],
   "source": []
  },
  {
   "cell_type": "markdown",
   "metadata": {},
   "source": [
    "## Global Variables - Research Scoping"
   ]
  },
  {
   "cell_type": "code",
   "execution_count": 2,
   "metadata": {},
   "outputs": [],
   "source": [
    "# Define Study Time Frame (Years) - as defined by research\n",
    "StudyTimeFrame_StartYear = 2011\n",
    "StudyTimeFrame_EndYear = 2014"
   ]
  },
  {
   "cell_type": "markdown",
   "metadata": {},
   "source": [
    "## Load and Clean Up Simple Datasets"
   ]
  },
  {
   "cell_type": "markdown",
   "metadata": {},
   "source": [
    "### Load & Clean UK Holidays"
   ]
  },
  {
   "cell_type": "code",
   "execution_count": 3,
   "metadata": {},
   "outputs": [
    {
     "name": "stdout",
     "output_type": "stream",
     "text": [
      "Wall time: 0 ns\n"
     ]
    }
   ],
   "source": [
    "%time\n",
    "df_UKHolidays = pd.read_csv(\"dataset/uk_bank_holidays.csv\")\n",
    "# df_UKHolidays.info()\n",
    "\n",
    "# Rename columns to be read-able\n",
    "df_UKHolidays.columns = ['Date', 'Name']\n",
    "\n",
    "# Convert 'Date' to DateTime data type\n",
    "df_UKHolidays['Date'] = pd.to_datetime(df_UKHolidays['Date'])\n",
    "\n",
    "# Drop duplicates by Date\n",
    "df_UKHolidays = df_UKHolidays.drop_duplicates(subset=['Date'])\n",
    "\n",
    "# Remove null data\n",
    "df_UKHolidays.dropna()\n",
    "\n",
    "# Sort by Date\n",
    "df_UKHolidays = df_UKHolidays.sort_values(by='Date')\n",
    "\n",
    "# Ensure no null values exist in all columns \n",
    "# assert df_UKHolidays.isnull().sum().sum() == 0"
   ]
  },
  {
   "cell_type": "code",
   "execution_count": 4,
   "metadata": {},
   "outputs": [
    {
     "data": {
      "image/png": "[encoded data removed]",
      "text/plain": [
       "<Figure size 432x288 with 1 Axes>"
      ]
     },
     "metadata": {
      "needs_background": "light"
     },
     "output_type": "display_data"
    }
   ],
   "source": [
    "Count_UKHolidays_ByYear =df_UKHolidays[\"Date\"].dt.year.value_counts()\n",
    "Count_UKHolidays_ByYear.plot.bar() # We can see that we do not have holidays for 2011\n",
    "\n",
    "# Update Study Time Frame\n",
    "StudyTimeFrame_StartYear = min(df_UKHolidays[\"Date\"].dt.year)\n",
    "StudyTimeFrame_EndYear = max(df_UKHolidays[\"Date\"].dt.year)"
   ]
  },
  {
   "cell_type": "markdown",
   "metadata": {},
   "source": [
    "### Load & Clean ACORN Categories"
   ]
  },
  {
   "cell_type": "code",
   "execution_count": 5,
   "metadata": {},
   "outputs": [
    {
     "name": "stdout",
     "output_type": "stream",
     "text": [
      "Wall time: 0 ns\n"
     ]
    },
    {
     "data": {
      "text/html": [
       "<div>\n",
       "<style scoped>\n",
       "    .dataframe tbody tr th:only-of-type {\n",
       "        vertical-align: middle;\n",
       "    }\n",
       "\n",
       "    .dataframe tbody tr th {\n",
       "        vertical-align: top;\n",
       "    }\n",
       "\n",
       "    .dataframe thead th {\n",
       "        text-align: right;\n",
       "    }\n",
       "</style>\n",
       "<table border=\"1\" class=\"dataframe\">\n",
       "  <thead>\n",
       "    <tr style=\"text-align: right;\">\n",
       "      <th></th>\n",
       "      <th>Code</th>\n",
       "      <th>Name</th>\n",
       "      <th>Group_Name</th>\n",
       "      <th>Color</th>\n",
       "    </tr>\n",
       "  </thead>\n",
       "  <tbody>\n",
       "    <tr>\n",
       "      <th>0</th>\n",
       "      <td>A</td>\n",
       "      <td>Affluent Achievers</td>\n",
       "      <td>Lavish Lifestyles</td>\n",
       "      <td>dark blue</td>\n",
       "    </tr>\n",
       "    <tr>\n",
       "      <th>1</th>\n",
       "      <td>B</td>\n",
       "      <td>Affluent Achievers</td>\n",
       "      <td>Executive Wealth</td>\n",
       "      <td>dark blue</td>\n",
       "    </tr>\n",
       "    <tr>\n",
       "      <th>2</th>\n",
       "      <td>C</td>\n",
       "      <td>Affluent Achievers</td>\n",
       "      <td>Mature Money</td>\n",
       "      <td>dark blue</td>\n",
       "    </tr>\n",
       "    <tr>\n",
       "      <th>3</th>\n",
       "      <td>D</td>\n",
       "      <td>Rising Prosperity</td>\n",
       "      <td>City Sophisticates</td>\n",
       "      <td>purple</td>\n",
       "    </tr>\n",
       "    <tr>\n",
       "      <th>4</th>\n",
       "      <td>E</td>\n",
       "      <td>Rising Prosperity</td>\n",
       "      <td>Career Climbers</td>\n",
       "      <td>purple</td>\n",
       "    </tr>\n",
       "    <tr>\n",
       "      <th>5</th>\n",
       "      <td>F</td>\n",
       "      <td>Comfortable Communities</td>\n",
       "      <td>Countryside Communities</td>\n",
       "      <td>green</td>\n",
       "    </tr>\n",
       "    <tr>\n",
       "      <th>6</th>\n",
       "      <td>G</td>\n",
       "      <td>Comfortable Communities</td>\n",
       "      <td>Successful Suburbs</td>\n",
       "      <td>green</td>\n",
       "    </tr>\n",
       "    <tr>\n",
       "      <th>7</th>\n",
       "      <td>H</td>\n",
       "      <td>Comfortable Communities</td>\n",
       "      <td>Steady Neighbourhoods</td>\n",
       "      <td>green</td>\n",
       "    </tr>\n",
       "    <tr>\n",
       "      <th>8</th>\n",
       "      <td>I</td>\n",
       "      <td>Comfortable Communities</td>\n",
       "      <td>Comfortable Seniors</td>\n",
       "      <td>green</td>\n",
       "    </tr>\n",
       "    <tr>\n",
       "      <th>9</th>\n",
       "      <td>J</td>\n",
       "      <td>Comfortable Communities</td>\n",
       "      <td>Starting Out</td>\n",
       "      <td>green</td>\n",
       "    </tr>\n",
       "    <tr>\n",
       "      <th>10</th>\n",
       "      <td>K</td>\n",
       "      <td>Financially Stretched</td>\n",
       "      <td>Student Life</td>\n",
       "      <td>orange</td>\n",
       "    </tr>\n",
       "    <tr>\n",
       "      <th>11</th>\n",
       "      <td>L</td>\n",
       "      <td>Financially Stretched</td>\n",
       "      <td>Modest Means</td>\n",
       "      <td>orange</td>\n",
       "    </tr>\n",
       "    <tr>\n",
       "      <th>12</th>\n",
       "      <td>M</td>\n",
       "      <td>Financially Stretched</td>\n",
       "      <td>Striving Families</td>\n",
       "      <td>orange</td>\n",
       "    </tr>\n",
       "    <tr>\n",
       "      <th>13</th>\n",
       "      <td>N</td>\n",
       "      <td>Financially Stretched</td>\n",
       "      <td>Poorer Pensioners</td>\n",
       "      <td>orange</td>\n",
       "    </tr>\n",
       "    <tr>\n",
       "      <th>14</th>\n",
       "      <td>O</td>\n",
       "      <td>Urban Adversity</td>\n",
       "      <td>Young Hardship</td>\n",
       "      <td>light blue</td>\n",
       "    </tr>\n",
       "    <tr>\n",
       "      <th>15</th>\n",
       "      <td>P</td>\n",
       "      <td>Urban Adversity</td>\n",
       "      <td>Struggling Estates</td>\n",
       "      <td>light blue</td>\n",
       "    </tr>\n",
       "    <tr>\n",
       "      <th>16</th>\n",
       "      <td>Q</td>\n",
       "      <td>Urban Adversity</td>\n",
       "      <td>Difficult Circumstances</td>\n",
       "      <td>light blue</td>\n",
       "    </tr>\n",
       "  </tbody>\n",
       "</table>\n",
       "</div>"
      ],
      "text/plain": [
       "   Code                     Name               Group_Name       Color\n",
       "0     A       Affluent Achievers        Lavish Lifestyles   dark blue\n",
       "1     B       Affluent Achievers         Executive Wealth   dark blue\n",
       "2     C       Affluent Achievers             Mature Money   dark blue\n",
       "3     D        Rising Prosperity       City Sophisticates      purple\n",
       "4     E        Rising Prosperity          Career Climbers      purple\n",
       "5     F  Comfortable Communities  Countryside Communities       green\n",
       "6     G  Comfortable Communities       Successful Suburbs       green\n",
       "7     H  Comfortable Communities    Steady Neighbourhoods       green\n",
       "8     I  Comfortable Communities      Comfortable Seniors       green\n",
       "9     J  Comfortable Communities             Starting Out       green\n",
       "10    K    Financially Stretched             Student Life      orange\n",
       "11    L    Financially Stretched             Modest Means      orange\n",
       "12    M    Financially Stretched        Striving Families      orange\n",
       "13    N    Financially Stretched        Poorer Pensioners      orange\n",
       "14    O          Urban Adversity           Young Hardship  light blue\n",
       "15    P          Urban Adversity       Struggling Estates  light blue\n",
       "16    Q          Urban Adversity  Difficult Circumstances  light blue"
      ]
     },
     "execution_count": 5,
     "metadata": {},
     "output_type": "execute_result"
    }
   ],
   "source": [
    "%time\n",
    "df_ACORN = pd.read_csv(\"dataset/acorn_categories.csv\")\n",
    "#df_ACORN.info()\n",
    "\n",
    "# Rename columns to be read-able\n",
    "df_ACORN.columns = ['Code', 'Name', 'Group_Name', 'Color']\n",
    "\n",
    "# Drop duplicates\n",
    "df_ACORN = df_ACORN.drop_duplicates()\n",
    "\n",
    "# Remove null data\n",
    "df_ACORN.dropna()\n",
    "\n",
    "# Ensure no null values exist in all columns \n",
    "# assert df_ACORN.isnull().sum().sum() == 0"
   ]
  },
  {
   "cell_type": "markdown",
   "metadata": {},
   "source": [
    "### Load & Clean Households"
   ]
  },
  {
   "cell_type": "code",
   "execution_count": 6,
   "metadata": {},
   "outputs": [
    {
     "name": "stdout",
     "output_type": "stream",
     "text": [
      "Wall time: 0 ns\n"
     ]
    },
    {
     "data": {
      "text/html": [
       "<div>\n",
       "<style scoped>\n",
       "    .dataframe tbody tr th:only-of-type {\n",
       "        vertical-align: middle;\n",
       "    }\n",
       "\n",
       "    .dataframe tbody tr th {\n",
       "        vertical-align: top;\n",
       "    }\n",
       "\n",
       "    .dataframe thead th {\n",
       "        text-align: right;\n",
       "    }\n",
       "</style>\n",
       "<table border=\"1\" class=\"dataframe\">\n",
       "  <thead>\n",
       "    <tr style=\"text-align: right;\">\n",
       "      <th></th>\n",
       "      <th>ID</th>\n",
       "      <th>ACORN_Category</th>\n",
       "    </tr>\n",
       "  </thead>\n",
       "  <tbody>\n",
       "    <tr>\n",
       "      <th>2</th>\n",
       "      <td>MAC000002</td>\n",
       "      <td>Affluent Achievers</td>\n",
       "    </tr>\n",
       "    <tr>\n",
       "      <th>3</th>\n",
       "      <td>MAC003613</td>\n",
       "      <td>Affluent Achievers</td>\n",
       "    </tr>\n",
       "    <tr>\n",
       "      <th>4</th>\n",
       "      <td>MAC003597</td>\n",
       "      <td>Affluent Achievers</td>\n",
       "    </tr>\n",
       "    <tr>\n",
       "      <th>5</th>\n",
       "      <td>MAC003579</td>\n",
       "      <td>Affluent Achievers</td>\n",
       "    </tr>\n",
       "    <tr>\n",
       "      <th>6</th>\n",
       "      <td>MAC003566</td>\n",
       "      <td>Affluent Achievers</td>\n",
       "    </tr>\n",
       "    <tr>\n",
       "      <th>...</th>\n",
       "      <td>...</td>\n",
       "      <td>...</td>\n",
       "    </tr>\n",
       "    <tr>\n",
       "      <th>5512</th>\n",
       "      <td>MAC002185</td>\n",
       "      <td>Urban Adversity</td>\n",
       "    </tr>\n",
       "    <tr>\n",
       "      <th>5513</th>\n",
       "      <td>MAC002347</td>\n",
       "      <td>Urban Adversity</td>\n",
       "    </tr>\n",
       "    <tr>\n",
       "      <th>5514</th>\n",
       "      <td>MAC000088</td>\n",
       "      <td>Urban Adversity</td>\n",
       "    </tr>\n",
       "    <tr>\n",
       "      <th>5515</th>\n",
       "      <td>MAC002331</td>\n",
       "      <td>Urban Adversity</td>\n",
       "    </tr>\n",
       "    <tr>\n",
       "      <th>5516</th>\n",
       "      <td>MAC000318</td>\n",
       "      <td>Urban Adversity</td>\n",
       "    </tr>\n",
       "  </tbody>\n",
       "</table>\n",
       "<p>5515 rows × 2 columns</p>\n",
       "</div>"
      ],
      "text/plain": [
       "             ID      ACORN_Category\n",
       "2     MAC000002  Affluent Achievers\n",
       "3     MAC003613  Affluent Achievers\n",
       "4     MAC003597  Affluent Achievers\n",
       "5     MAC003579  Affluent Achievers\n",
       "6     MAC003566  Affluent Achievers\n",
       "...         ...                 ...\n",
       "5512  MAC002185     Urban Adversity\n",
       "5513  MAC002347     Urban Adversity\n",
       "5514  MAC000088     Urban Adversity\n",
       "5515  MAC002331     Urban Adversity\n",
       "5516  MAC000318     Urban Adversity\n",
       "\n",
       "[5515 rows x 2 columns]"
      ]
     },
     "execution_count": 6,
     "metadata": {},
     "output_type": "execute_result"
    }
   ],
   "source": [
    "%time\n",
    "df_Households = pd.read_csv(\"dataset/informations_households.csv\")\n",
    "#df_Households.info()\n",
    "\n",
    "# Select only relevent columns\n",
    "df_Households = df_Households[['LCLid', 'Acorn']]\n",
    "\n",
    "# Rename columns to be read-able\n",
    "df_Households.columns = ['ID', 'ACORN_Category']\n",
    "\n",
    "# Apply striping of \"ACORN-\" from category code\n",
    "df_Households['ACORN_Category'] = df_Households['ACORN_Category'].apply(lambda x: x.upper().replace('ACORN-','').strip())\n",
    "\n",
    "df_Households_invalid = pd.DataFrame() \n",
    "# Remove Empty ACORN categories\n",
    "df_Households_invalid = df_Households_invalid.append(df_Households[df_Households['ACORN_Category']==\"\"])\n",
    "df_Households = df_Households[df_Households['ACORN_Category']!=\"\"]\n",
    "\n",
    "# Remove invalid ACORN categories\n",
    "df_Households_invalid = df_Households_invalid.append(df_Households[~df_Households['ACORN_Category'].isin(df_ACORN['Code'])])\n",
    "df_Households = df_Households[df_Households['ACORN_Category'].isin(df_ACORN['Code'])]\n",
    "\n",
    "# Replace ACORN category code with category name (to group data by ACORN categery rather ACORN group)\n",
    "df_Households['ACORN_Category'] = df_Households['ACORN_Category'].map(df_ACORN.set_index('Code')['Name'])\n",
    "\n",
    "# Drop duplicates by ID\n",
    "df_Households = df_Households.drop_duplicates(subset=['ID'])\n",
    "\n",
    "# Remove null data\n",
    "df_Households.dropna()\n",
    "\n",
    "# Ensure no null values exist in all columns \n",
    "# assert df_Households.isnull().sum().sum() == 0"
   ]
  },
  {
   "cell_type": "code",
   "execution_count": 7,
   "metadata": {},
   "outputs": [
    {
     "data": {
      "text/plain": [
       "<AxesSubplot:>"
      ]
     },
     "execution_count": 7,
     "metadata": {},
     "output_type": "execute_result"
    },
    {
     "data": {
      "image/png": "[encoded data removed]",
      "text/plain": [
       "<Figure size 432x288 with 1 Axes>"
      ]
     },
     "metadata": {
      "needs_background": "light"
     },
     "output_type": "display_data"
    }
   ],
   "source": [
    "Count_Households_ByACORNCategory = df_Households[\"ACORN_Category\"].value_counts()\n",
    "Count_Households_ByACORNCategory.plot.bar() # Visualization to see distribution of houses on ACORN categories"
   ]
  },
  {
   "cell_type": "markdown",
   "metadata": {},
   "source": [
    "### Load & Clean Weather Data"
   ]
  },
  {
   "cell_type": "code",
   "execution_count": 8,
   "metadata": {},
   "outputs": [
    {
     "name": "stdout",
     "output_type": "stream",
     "text": [
      "Wall time: 0 ns\n"
     ]
    },
    {
     "data": {
      "text/html": [
       "<div>\n",
       "<style scoped>\n",
       "    .dataframe tbody tr th:only-of-type {\n",
       "        vertical-align: middle;\n",
       "    }\n",
       "\n",
       "    .dataframe tbody tr th {\n",
       "        vertical-align: top;\n",
       "    }\n",
       "\n",
       "    .dataframe thead th {\n",
       "        text-align: right;\n",
       "    }\n",
       "</style>\n",
       "<table border=\"1\" class=\"dataframe\">\n",
       "  <thead>\n",
       "    <tr style=\"text-align: right;\">\n",
       "      <th></th>\n",
       "      <th>Date</th>\n",
       "      <th>Temp_Max</th>\n",
       "      <th>Temp_Min</th>\n",
       "      <th>Temp_Avg</th>\n",
       "    </tr>\n",
       "  </thead>\n",
       "  <tbody>\n",
       "    <tr>\n",
       "      <th>13</th>\n",
       "      <td>2011-01-11</td>\n",
       "      <td>15.57</td>\n",
       "      <td>9.68</td>\n",
       "      <td>12.625</td>\n",
       "    </tr>\n",
       "    <tr>\n",
       "      <th>28</th>\n",
       "      <td>2011-01-12</td>\n",
       "      <td>12.15</td>\n",
       "      <td>6.08</td>\n",
       "      <td>9.115</td>\n",
       "    </tr>\n",
       "    <tr>\n",
       "      <th>60</th>\n",
       "      <td>2011-02-11</td>\n",
       "      <td>15.19</td>\n",
       "      <td>8.88</td>\n",
       "      <td>12.035</td>\n",
       "    </tr>\n",
       "    <tr>\n",
       "      <th>3</th>\n",
       "      <td>2011-02-12</td>\n",
       "      <td>8.07</td>\n",
       "      <td>2.56</td>\n",
       "      <td>5.315</td>\n",
       "    </tr>\n",
       "    <tr>\n",
       "      <th>34</th>\n",
       "      <td>2011-03-11</td>\n",
       "      <td>17.41</td>\n",
       "      <td>12.79</td>\n",
       "      <td>15.100</td>\n",
       "    </tr>\n",
       "  </tbody>\n",
       "</table>\n",
       "</div>"
      ],
      "text/plain": [
       "         Date  Temp_Max  Temp_Min  Temp_Avg\n",
       "13 2011-01-11     15.57      9.68    12.625\n",
       "28 2011-01-12     12.15      6.08     9.115\n",
       "60 2011-02-11     15.19      8.88    12.035\n",
       "3  2011-02-12      8.07      2.56     5.315\n",
       "34 2011-03-11     17.41     12.79    15.100"
      ]
     },
     "execution_count": 8,
     "metadata": {},
     "output_type": "execute_result"
    }
   ],
   "source": [
    "%time\n",
    "df_Weather = pd.read_csv(\"dataset/weather_daily_darksky.csv\")\n",
    "#df_Weather.info()\n",
    "\n",
    "# Select only relevent columns\n",
    "df_Weather = df_Weather[['time', 'temperatureMax', 'temperatureMin']]\n",
    "\n",
    "# Rename columns to be read-able\n",
    "df_Weather.columns = ['Date', 'Temp_Max', 'Temp_Min']\n",
    "\n",
    "# Convert 'Date' to DateTime data type\n",
    "df_Weather['Date'] = pd.to_datetime(df_Weather['Date'])\n",
    "\n",
    "# Drop duplicates by Date\n",
    "df_Weather = df_Weather.drop_duplicates(subset=['Date'])\n",
    "\n",
    "# Remove null data\n",
    "df_Weather.dropna()\n",
    "\n",
    "# Calculate the Average Temperature for each day\n",
    "df_Weather['Temp_Avg'] = np.mean([df_Weather['Temp_Max'], df_Weather['Temp_Min']], axis=0)\n",
    "\n",
    "# Sort by Date\n",
    "df_Weather = df_Weather.sort_values(by='Date')\n",
    "\n",
    "df_Weather.head()\n",
    "\n",
    "# Ensure no null values exist in all columns \n",
    "# assert df_Weather.isnull().sum().sum() == 0"
   ]
  },
  {
   "cell_type": "code",
   "execution_count": 9,
   "metadata": {},
   "outputs": [
    {
     "data": {
      "text/html": [
       "<div>\n",
       "<style scoped>\n",
       "    .dataframe tbody tr th:only-of-type {\n",
       "        vertical-align: middle;\n",
       "    }\n",
       "\n",
       "    .dataframe tbody tr th {\n",
       "        vertical-align: top;\n",
       "    }\n",
       "\n",
       "    .dataframe thead th {\n",
       "        text-align: right;\n",
       "    }\n",
       "</style>\n",
       "<table border=\"1\" class=\"dataframe\">\n",
       "  <thead>\n",
       "    <tr style=\"text-align: right;\">\n",
       "      <th></th>\n",
       "      <th>Date</th>\n",
       "      <th>Temp_Max</th>\n",
       "      <th>Temp_Min</th>\n",
       "      <th>Temp_Avg</th>\n",
       "    </tr>\n",
       "  </thead>\n",
       "  <tbody>\n",
       "    <tr>\n",
       "      <th>415</th>\n",
       "      <td>2012-01-01 00:00:00</td>\n",
       "      <td>12.59</td>\n",
       "      <td>7.71</td>\n",
       "      <td>10.150</td>\n",
       "    </tr>\n",
       "    <tr>\n",
       "      <th>110</th>\n",
       "      <td>2012-01-02 00:00:00</td>\n",
       "      <td>3.36</td>\n",
       "      <td>-0.92</td>\n",
       "      <td>1.220</td>\n",
       "    </tr>\n",
       "    <tr>\n",
       "      <th>295</th>\n",
       "      <td>2012-01-03 00:00:00</td>\n",
       "      <td>15.11</td>\n",
       "      <td>6.49</td>\n",
       "      <td>10.800</td>\n",
       "    </tr>\n",
       "    <tr>\n",
       "      <th>365</th>\n",
       "      <td>2012-01-04 23:00:00</td>\n",
       "      <td>15.04</td>\n",
       "      <td>3.98</td>\n",
       "      <td>9.510</td>\n",
       "    </tr>\n",
       "    <tr>\n",
       "      <th>393</th>\n",
       "      <td>2012-01-05 23:00:00</td>\n",
       "      <td>13.81</td>\n",
       "      <td>9.73</td>\n",
       "      <td>11.770</td>\n",
       "    </tr>\n",
       "    <tr>\n",
       "      <th>...</th>\n",
       "      <td>...</td>\n",
       "      <td>...</td>\n",
       "      <td>...</td>\n",
       "      <td>...</td>\n",
       "    </tr>\n",
       "    <tr>\n",
       "      <th>302</th>\n",
       "      <td>2012-12-27 00:00:00</td>\n",
       "      <td>7.97</td>\n",
       "      <td>6.42</td>\n",
       "      <td>7.195</td>\n",
       "    </tr>\n",
       "    <tr>\n",
       "      <th>331</th>\n",
       "      <td>2012-12-28 00:00:00</td>\n",
       "      <td>12.34</td>\n",
       "      <td>5.45</td>\n",
       "      <td>8.895</td>\n",
       "    </tr>\n",
       "    <tr>\n",
       "      <th>166</th>\n",
       "      <td>2012-12-29 00:00:00</td>\n",
       "      <td>11.97</td>\n",
       "      <td>7.28</td>\n",
       "      <td>9.625</td>\n",
       "    </tr>\n",
       "    <tr>\n",
       "      <th>326</th>\n",
       "      <td>2012-12-30 00:00:00</td>\n",
       "      <td>10.90</td>\n",
       "      <td>5.44</td>\n",
       "      <td>8.170</td>\n",
       "    </tr>\n",
       "    <tr>\n",
       "      <th>229</th>\n",
       "      <td>2012-12-31 00:00:00</td>\n",
       "      <td>9.24</td>\n",
       "      <td>4.22</td>\n",
       "      <td>6.730</td>\n",
       "    </tr>\n",
       "  </tbody>\n",
       "</table>\n",
       "<p>366 rows × 4 columns</p>\n",
       "</div>"
      ],
      "text/plain": [
       "                   Date  Temp_Max  Temp_Min  Temp_Avg\n",
       "415 2012-01-01 00:00:00     12.59      7.71    10.150\n",
       "110 2012-01-02 00:00:00      3.36     -0.92     1.220\n",
       "295 2012-01-03 00:00:00     15.11      6.49    10.800\n",
       "365 2012-01-04 23:00:00     15.04      3.98     9.510\n",
       "393 2012-01-05 23:00:00     13.81      9.73    11.770\n",
       "..                  ...       ...       ...       ...\n",
       "302 2012-12-27 00:00:00      7.97      6.42     7.195\n",
       "331 2012-12-28 00:00:00     12.34      5.45     8.895\n",
       "166 2012-12-29 00:00:00     11.97      7.28     9.625\n",
       "326 2012-12-30 00:00:00     10.90      5.44     8.170\n",
       "229 2012-12-31 00:00:00      9.24      4.22     6.730\n",
       "\n",
       "[366 rows x 4 columns]"
      ]
     },
     "execution_count": 9,
     "metadata": {},
     "output_type": "execute_result"
    }
   ],
   "source": [
    "df_Weather[(df_Weather['Date'].dt.year == 2012)]"
   ]
  },
  {
   "cell_type": "code",
   "execution_count": 21,
   "metadata": {},
   "outputs": [
    {
     "data": {
      "text/plain": [
       "Date\n",
       "1      7.567419\n",
       "12     8.372903\n",
       "11     8.585167\n",
       "2      8.972069\n",
       "4      9.440667\n",
       "3     10.288750\n",
       "10    10.527333\n",
       "9     12.643833\n",
       "5     13.146290\n",
       "6     13.541500\n",
       "7     14.940806\n",
       "8     15.773226\n",
       "Name: Temp_Avg, dtype: float64"
      ]
     },
     "execution_count": 21,
     "metadata": {},
     "output_type": "execute_result"
    }
   ],
   "source": [
    "#df_Weather = df_Weather.set_index('Date')\n",
    "\n",
    "df_weather_bymonth_2012 = df_Weather[(df_Weather['Date'].dt.year == 2012)]\n",
    "\n",
    "df_weather_bymonth_2012.groupby(df_weather_bymonth_2012['Date'].dt.month)['Temp_Avg'].mean().sort_values()\n",
    "\n",
    "#df_weather_bymonth_2012.groupby(by= df_weather_bymonth_2012['Date'].dt.month)\n",
    "#df_weather_bymonth_2012.tail()\n",
    "\n",
    "#df_Weather[(df_Weather['Date'].dt.year == 2012)].plot(x='Date', y='Temp_Avg', figsize=(20,5))\n",
    "#df_Weather[(df_Weather['Date'].dt.year == 2012)].plot(x='Date', y='Temp_Min', figsize=(20,5))\n",
    "#df_Weather[(df_Weather['Date'].dt.year == 2013)].plot(x='Date', y='Temp_Min', figsize=(20,5))\n",
    "#df_Weather[(df_Weather['Date'].dt.year == 2012) & (df_Weather['Date'].dt.month == 1)].sort_values(by='Date')"
   ]
  },
  {
   "cell_type": "code",
   "execution_count": 11,
   "metadata": {},
   "outputs": [
    {
     "data": {
      "image/png": "[encoded data removed]",
      "text/plain": [
       "<Figure size 432x288 with 1 Axes>"
      ]
     },
     "metadata": {
      "needs_background": "light"
     },
     "output_type": "display_data"
    }
   ],
   "source": [
    "Count_WeatherData_ByYear = df_Weather[\"Date\"].dt.year.value_counts()\n",
    "Count_WeatherData_ByYear.plot.bar() # We can see that we do not have enough data for 2011 and 2014\n",
    "\n",
    "# Update Study Time Frame (years that have full daily weather records)\n",
    "StudyTimeFrame_StartYear = min(Count_WeatherData_ByYear[Count_WeatherData_ByYear >= 365].index)\n",
    "StudyTimeFrame_EndYear = max(Count_WeatherData_ByYear[Count_WeatherData_ByYear >= 365].index)\n",
    "\n",
    "# Remove excluded data\n",
    "df_Weather = df_Weather[(StudyTimeFrame_StartYear <= df_Weather['Date'].dt.year) & (df_Weather['Date'].dt.year <= StudyTimeFrame_EndYear)]"
   ]
  }
 ],
 "metadata": {
  "kernelspec": {
   "display_name": "Python 3",
   "language": "python",
   "name": "python3"
  },
  "language_info": {
   "codemirror_mode": {
    "name": "ipython",
    "version": 3
   },
   "file_extension": ".py",
   "mimetype": "text/x-python",
   "name": "python",
   "nbconvert_exporter": "python",
   "pygments_lexer": "ipython3",
   "version": "3.8.5"
  }
 },
 "nbformat": 4,
 "nbformat_minor": 4
}

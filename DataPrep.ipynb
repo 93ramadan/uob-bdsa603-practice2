{
 "cells": [
  {
   "cell_type": "code",
   "execution_count": 10,
   "metadata": {},
   "outputs": [],
   "source": [
    "## imports \n",
    "import os\n",
    "import pandas as pd"
   ]
  },
  {
   "cell_type": "code",
   "execution_count": 7,
   "metadata": {},
   "outputs": [],
   "source": [
    "directory = r'D:\\UOB\\BDSA\\BDSA603\\Assignments\\Practice2\\archive\\hhblock_dataset\\hhblock_dataset'"
   ]
  },
  {
   "cell_type": "code",
   "execution_count": 15,
   "metadata": {},
   "outputs": [
    {
     "name": "stdout",
     "output_type": "stream",
     "text": [
      "3469352\n"
     ]
    }
   ],
   "source": [
    "totalrecords = 0\n",
    "for filename in os.listdir(directory):\n",
    "    if filename.endswith(\".csv\"):        \n",
    "        tempDF = pd.read_csv(os.path.join(directory, filename))\n",
    "        totalrecords+= len(tempDF)\n",
    "        #print(totalrecords)\n",
    "        #break\n",
    "        #print(os.path.join(directory, filename))\n",
    "    else:\n",
    "        continue\n",
    "print(totalrecords)"
   ]
  },
  {
   "cell_type": "code",
   "execution_count": 17,
   "metadata": {},
   "outputs": [
    {
     "name": "stdout",
     "output_type": "stream",
     "text": [
      "(25286, 50)\n"
     ]
    }
   ],
   "source": [
    "for filename in os.listdir(directory):\n",
    "    if filename.endswith(\".csv\"):        \n",
    "        tempDF = pd.read_csv(os.path.join(directory, filename))\n",
    "        print(tempDF.shape)\n",
    "        #print(totalrecords)\n",
    "        break\n",
    "        #print(os.path.join(directory, filename))\n",
    "    else:\n",
    "        continue"
   ]
  },
  {
   "cell_type": "code",
   "execution_count": 20,
   "metadata": {},
   "outputs": [],
   "source": [
    "dailydirectory = r'D:\\UOB\\BDSA\\BDSA603\\Assignments\\Practice2\\archive\\daily_dataset\\daily_dataset'"
   ]
  },
  {
   "cell_type": "code",
   "execution_count": 21,
   "metadata": {},
   "outputs": [
    {
     "name": "stdout",
     "output_type": "stream",
     "text": [
      "3510433\n"
     ]
    }
   ],
   "source": [
    "totalrecords = 0\n",
    "for filename in os.listdir(dailydirectory):\n",
    "    if filename.endswith(\".csv\"):        \n",
    "        tempDF = pd.read_csv(os.path.join(dailydirectory, filename))\n",
    "        totalrecords+= len(tempDF)\n",
    "        #print(totalrecords)\n",
    "        #break\n",
    "        #print(os.path.join(directory, filename))\n",
    "    else:\n",
    "        continue\n",
    "print(totalrecords)"
   ]
  }
 ],
 "metadata": {
  "kernelspec": {
   "display_name": "Python 3",
   "language": "python",
   "name": "python3"
  },
  "language_info": {
   "codemirror_mode": {
    "name": "ipython",
    "version": 3
   },
   "file_extension": ".py",
   "mimetype": "text/x-python",
   "name": "python",
   "nbconvert_exporter": "python",
   "pygments_lexer": "ipython3",
   "version": "3.8.5"
  }
 },
 "nbformat": 4,
 "nbformat_minor": 4
}
